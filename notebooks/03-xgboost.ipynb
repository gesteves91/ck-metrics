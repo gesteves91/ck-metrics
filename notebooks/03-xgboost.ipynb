{
 "cells": [
  {
   "cell_type": "markdown",
   "metadata": {},
   "source": [
    "# XGBoost"
   ]
  },
  {
   "cell_type": "markdown",
   "metadata": {},
   "source": [
    "#### Import libraries"
   ]
  },
  {
   "cell_type": "code",
   "execution_count": 11,
   "metadata": {},
   "outputs": [],
   "source": [
    "import xgboost\n",
    "import pandas as pd"
   ]
  },
  {
   "cell_type": "code",
   "execution_count": 12,
   "metadata": {},
   "outputs": [],
   "source": [
    "from sklearn.model_selection import StratifiedKFold\n",
    "from sklearn.model_selection import cross_val_score"
   ]
  },
  {
   "cell_type": "markdown",
   "metadata": {},
   "source": [
    "#### Import data"
   ]
  },
  {
   "cell_type": "code",
   "execution_count": 13,
   "metadata": {},
   "outputs": [],
   "source": [
    "# load data\n",
    "df = pd.read_csv('../experiments/total.csv')"
   ]
  },
  {
   "cell_type": "code",
   "execution_count": 14,
   "metadata": {},
   "outputs": [
    {
     "output_type": "execute_result",
     "data": {
      "text/plain": "   wmc  dit  noc  cbo  rfc  lcom  ca  ce  npm     lcom3  ...       dam  moa  \\\n0   14    2    0    9   33    53   1   9   11  0.876923  ...  0.400000    1   \n1   11    2    0    6   27    19   0   6   11  0.911111  ...  0.555556    0   \n2    8    1    0    7   42    14   0   7    2  0.750000  ...  0.000000    2   \n3    6    3    0    2   15     0   1   1    5  0.000000  ...  1.000000    0   \n4   13    1    0    4   40     8   0   4    2  0.697917  ...  0.000000    4   \n\n        mfa       cam  ic  cbm        amc  max_cc  avg_cc  bug  \n0  0.796610  0.442308   1    3  12.071429       3  1.6429    1  \n1  0.444444  0.303030   0    0  16.272727       7  2.0000    1  \n2  0.000000  0.238095   0    0  37.000000       4  1.5000    0  \n3  0.919355  0.375000   0    0   9.833333       2  1.0000    0  \n4  0.000000  0.150000   0    0  38.076923       7  2.7692    1  \n\n[5 rows x 21 columns]",
      "text/html": "<div>\n<style scoped>\n    .dataframe tbody tr th:only-of-type {\n        vertical-align: middle;\n    }\n\n    .dataframe tbody tr th {\n        vertical-align: top;\n    }\n\n    .dataframe thead th {\n        text-align: right;\n    }\n</style>\n<table border=\"1\" class=\"dataframe\">\n  <thead>\n    <tr style=\"text-align: right;\">\n      <th></th>\n      <th>wmc</th>\n      <th>dit</th>\n      <th>noc</th>\n      <th>cbo</th>\n      <th>rfc</th>\n      <th>lcom</th>\n      <th>ca</th>\n      <th>ce</th>\n      <th>npm</th>\n      <th>lcom3</th>\n      <th>...</th>\n      <th>dam</th>\n      <th>moa</th>\n      <th>mfa</th>\n      <th>cam</th>\n      <th>ic</th>\n      <th>cbm</th>\n      <th>amc</th>\n      <th>max_cc</th>\n      <th>avg_cc</th>\n      <th>bug</th>\n    </tr>\n  </thead>\n  <tbody>\n    <tr>\n      <th>0</th>\n      <td>14</td>\n      <td>2</td>\n      <td>0</td>\n      <td>9</td>\n      <td>33</td>\n      <td>53</td>\n      <td>1</td>\n      <td>9</td>\n      <td>11</td>\n      <td>0.876923</td>\n      <td>...</td>\n      <td>0.400000</td>\n      <td>1</td>\n      <td>0.796610</td>\n      <td>0.442308</td>\n      <td>1</td>\n      <td>3</td>\n      <td>12.071429</td>\n      <td>3</td>\n      <td>1.6429</td>\n      <td>1</td>\n    </tr>\n    <tr>\n      <th>1</th>\n      <td>11</td>\n      <td>2</td>\n      <td>0</td>\n      <td>6</td>\n      <td>27</td>\n      <td>19</td>\n      <td>0</td>\n      <td>6</td>\n      <td>11</td>\n      <td>0.911111</td>\n      <td>...</td>\n      <td>0.555556</td>\n      <td>0</td>\n      <td>0.444444</td>\n      <td>0.303030</td>\n      <td>0</td>\n      <td>0</td>\n      <td>16.272727</td>\n      <td>7</td>\n      <td>2.0000</td>\n      <td>1</td>\n    </tr>\n    <tr>\n      <th>2</th>\n      <td>8</td>\n      <td>1</td>\n      <td>0</td>\n      <td>7</td>\n      <td>42</td>\n      <td>14</td>\n      <td>0</td>\n      <td>7</td>\n      <td>2</td>\n      <td>0.750000</td>\n      <td>...</td>\n      <td>0.000000</td>\n      <td>2</td>\n      <td>0.000000</td>\n      <td>0.238095</td>\n      <td>0</td>\n      <td>0</td>\n      <td>37.000000</td>\n      <td>4</td>\n      <td>1.5000</td>\n      <td>0</td>\n    </tr>\n    <tr>\n      <th>3</th>\n      <td>6</td>\n      <td>3</td>\n      <td>0</td>\n      <td>2</td>\n      <td>15</td>\n      <td>0</td>\n      <td>1</td>\n      <td>1</td>\n      <td>5</td>\n      <td>0.000000</td>\n      <td>...</td>\n      <td>1.000000</td>\n      <td>0</td>\n      <td>0.919355</td>\n      <td>0.375000</td>\n      <td>0</td>\n      <td>0</td>\n      <td>9.833333</td>\n      <td>2</td>\n      <td>1.0000</td>\n      <td>0</td>\n    </tr>\n    <tr>\n      <th>4</th>\n      <td>13</td>\n      <td>1</td>\n      <td>0</td>\n      <td>4</td>\n      <td>40</td>\n      <td>8</td>\n      <td>0</td>\n      <td>4</td>\n      <td>2</td>\n      <td>0.697917</td>\n      <td>...</td>\n      <td>0.000000</td>\n      <td>4</td>\n      <td>0.000000</td>\n      <td>0.150000</td>\n      <td>0</td>\n      <td>0</td>\n      <td>38.076923</td>\n      <td>7</td>\n      <td>2.7692</td>\n      <td>1</td>\n    </tr>\n  </tbody>\n</table>\n<p>5 rows × 21 columns</p>\n</div>"
     },
     "metadata": {},
     "execution_count": 14
    }
   ],
   "source": [
    "df.head()"
   ]
  },
  {
   "cell_type": "code",
   "execution_count": 15,
   "metadata": {},
   "outputs": [],
   "source": [
    "# delete unnamed column\n",
    "df = df.loc[:, ~df.columns.str.contains('^Unnamed')]\n",
    "# convert all columns of DataFrame\n",
    "df = df.dropna()\n",
    "# find the objects columns\n",
    "cols = df.columns[df.dtypes.eq('object')]\n",
    "# convert to numeric these columns\n",
    "df[cols] = df[cols].apply(pd.to_numeric, errors='coerce')"
   ]
  },
  {
   "cell_type": "code",
   "execution_count": 16,
   "metadata": {},
   "outputs": [
    {
     "output_type": "execute_result",
     "data": {
      "text/plain": "(80044, 21)"
     },
     "metadata": {},
     "execution_count": 16
    }
   ],
   "source": [
    "df.shape"
   ]
  },
  {
   "cell_type": "code",
   "execution_count": 17,
   "metadata": {},
   "outputs": [],
   "source": [
    "# split data into X and y\n",
    "array = df.values\n",
    "X = array[:,0:20]\n",
    "Y = array[:,20]"
   ]
  },
  {
   "cell_type": "code",
   "execution_count": 18,
   "metadata": {},
   "outputs": [
    {
     "output_type": "stream",
     "name": "stdout",
     "text": "Accuracy: 67.58% (9.43%)\n"
    }
   ],
   "source": [
    "# CV model\n",
    "model = xgboost.XGBClassifier(max_depth=10, n_estimators=200)\n",
    "kfold = StratifiedKFold(n_splits=10, random_state=7)\n",
    "results = cross_val_score(model, X, Y, cv=kfold, scoring='roc_auc')\n",
    "print(\"Accuracy: %.2f%% (%.2f%%)\" % (results.mean()*100, results.std()*100))"
   ]
  },
  {
   "cell_type": "markdown",
   "metadata": {},
   "source": [
    "##### That's all folks!!!"
   ]
  },
  {
   "cell_type": "code",
   "execution_count": null,
   "metadata": {},
   "outputs": [],
   "source": []
  }
 ],
 "metadata": {
  "kernelspec": {
   "display_name": "Python 3.8.2 64-bit ('envck': venv)",
   "language": "python",
   "name": "python38264bitenvckvenv8b1a09b67e2b48e28e0d76561ebc5c19"
  },
  "language_info": {
   "codemirror_mode": {
    "name": "ipython",
    "version": 3
   },
   "file_extension": ".py",
   "mimetype": "text/x-python",
   "name": "python",
   "nbconvert_exporter": "python",
   "pygments_lexer": "ipython3",
   "version": "3.8.2-final"
  }
 },
 "nbformat": 4,
 "nbformat_minor": 2
}