{
 "cells": [
  {
   "cell_type": "markdown",
   "metadata": {},
   "source": [
    "# XGBoost"
   ]
  },
  {
   "cell_type": "markdown",
   "metadata": {},
   "source": [
    "#### Import libraries"
   ]
  },
  {
   "cell_type": "code",
   "execution_count": 1,
   "metadata": {},
   "outputs": [],
   "source": [
    "import xgboost\n",
    "import pandas as pd"
   ]
  },
  {
   "cell_type": "code",
   "execution_count": 2,
   "metadata": {},
   "outputs": [],
   "source": [
    "from sklearn.model_selection import StratifiedKFold\n",
    "from sklearn.model_selection import cross_val_score"
   ]
  },
  {
   "cell_type": "markdown",
   "metadata": {},
   "source": [
    "#### Import data"
   ]
  },
  {
   "cell_type": "code",
   "execution_count": 3,
   "metadata": {},
   "outputs": [],
   "source": [
    "# load data\n",
    "df = pd.read_csv('../experiments/jedit.csv')"
   ]
  },
  {
   "cell_type": "code",
   "execution_count": 4,
   "metadata": {},
   "outputs": [
    {
     "output_type": "execute_result",
     "data": {
      "text/plain": "    name  wmc  dit  noc  cbo  rfc  lcom  ca  ce  npm  ...  dam  moa       mfa  \\\n0  jEdit   14    1    0    9   45    61   3   6   11  ...  1.0    1  0.000000   \n1  jEdit    7    2    0    4   21     0   1   3    0  ...  1.0    1  0.538462   \n2  jEdit    6    1    0    3   11     9   1   3    5  ...  1.0    3  0.000000   \n3  jEdit    6    2    0   16   14     3   8   8    5  ...  1.0    0  0.782609   \n4  jEdit    5    2    0    5   22     0   1   4    0  ...  1.0    0  0.700000   \n\n        cam  ic  cbm        amc  max_cc  avg_cc  bug  \n0  0.294872   0    0  29.142857       8  2.4286    0  \n1  0.333333   1    3  41.285714      16  4.7143    0  \n2  0.333333   0    0  16.333333       5  1.5000    0  \n3  0.444444   0    0  13.833333       1  0.8333    0  \n4  0.350000   1    3  39.800000      11  4.0000    0  \n\n[5 rows x 22 columns]",
      "text/html": "<div>\n<style scoped>\n    .dataframe tbody tr th:only-of-type {\n        vertical-align: middle;\n    }\n\n    .dataframe tbody tr th {\n        vertical-align: top;\n    }\n\n    .dataframe thead th {\n        text-align: right;\n    }\n</style>\n<table border=\"1\" class=\"dataframe\">\n  <thead>\n    <tr style=\"text-align: right;\">\n      <th></th>\n      <th>name</th>\n      <th>wmc</th>\n      <th>dit</th>\n      <th>noc</th>\n      <th>cbo</th>\n      <th>rfc</th>\n      <th>lcom</th>\n      <th>ca</th>\n      <th>ce</th>\n      <th>npm</th>\n      <th>...</th>\n      <th>dam</th>\n      <th>moa</th>\n      <th>mfa</th>\n      <th>cam</th>\n      <th>ic</th>\n      <th>cbm</th>\n      <th>amc</th>\n      <th>max_cc</th>\n      <th>avg_cc</th>\n      <th>bug</th>\n    </tr>\n  </thead>\n  <tbody>\n    <tr>\n      <th>0</th>\n      <td>jEdit</td>\n      <td>14</td>\n      <td>1</td>\n      <td>0</td>\n      <td>9</td>\n      <td>45</td>\n      <td>61</td>\n      <td>3</td>\n      <td>6</td>\n      <td>11</td>\n      <td>...</td>\n      <td>1.0</td>\n      <td>1</td>\n      <td>0.000000</td>\n      <td>0.294872</td>\n      <td>0</td>\n      <td>0</td>\n      <td>29.142857</td>\n      <td>8</td>\n      <td>2.4286</td>\n      <td>0</td>\n    </tr>\n    <tr>\n      <th>1</th>\n      <td>jEdit</td>\n      <td>7</td>\n      <td>2</td>\n      <td>0</td>\n      <td>4</td>\n      <td>21</td>\n      <td>0</td>\n      <td>1</td>\n      <td>3</td>\n      <td>0</td>\n      <td>...</td>\n      <td>1.0</td>\n      <td>1</td>\n      <td>0.538462</td>\n      <td>0.333333</td>\n      <td>1</td>\n      <td>3</td>\n      <td>41.285714</td>\n      <td>16</td>\n      <td>4.7143</td>\n      <td>0</td>\n    </tr>\n    <tr>\n      <th>2</th>\n      <td>jEdit</td>\n      <td>6</td>\n      <td>1</td>\n      <td>0</td>\n      <td>3</td>\n      <td>11</td>\n      <td>9</td>\n      <td>1</td>\n      <td>3</td>\n      <td>5</td>\n      <td>...</td>\n      <td>1.0</td>\n      <td>3</td>\n      <td>0.000000</td>\n      <td>0.333333</td>\n      <td>0</td>\n      <td>0</td>\n      <td>16.333333</td>\n      <td>5</td>\n      <td>1.5000</td>\n      <td>0</td>\n    </tr>\n    <tr>\n      <th>3</th>\n      <td>jEdit</td>\n      <td>6</td>\n      <td>2</td>\n      <td>0</td>\n      <td>16</td>\n      <td>14</td>\n      <td>3</td>\n      <td>8</td>\n      <td>8</td>\n      <td>5</td>\n      <td>...</td>\n      <td>1.0</td>\n      <td>0</td>\n      <td>0.782609</td>\n      <td>0.444444</td>\n      <td>0</td>\n      <td>0</td>\n      <td>13.833333</td>\n      <td>1</td>\n      <td>0.8333</td>\n      <td>0</td>\n    </tr>\n    <tr>\n      <th>4</th>\n      <td>jEdit</td>\n      <td>5</td>\n      <td>2</td>\n      <td>0</td>\n      <td>5</td>\n      <td>22</td>\n      <td>0</td>\n      <td>1</td>\n      <td>4</td>\n      <td>0</td>\n      <td>...</td>\n      <td>1.0</td>\n      <td>0</td>\n      <td>0.700000</td>\n      <td>0.350000</td>\n      <td>1</td>\n      <td>3</td>\n      <td>39.800000</td>\n      <td>11</td>\n      <td>4.0000</td>\n      <td>0</td>\n    </tr>\n  </tbody>\n</table>\n<p>5 rows × 22 columns</p>\n</div>"
     },
     "metadata": {},
     "execution_count": 4
    }
   ],
   "source": [
    "df.head()"
   ]
  },
  {
   "cell_type": "code",
   "execution_count": 5,
   "metadata": {},
   "outputs": [],
   "source": [
    "# delete unnamed column\n",
    "df = df.loc[:, ~df.columns.str.contains('^Unnamed')]\n",
    "# convert all columns of DataFrame\n",
    "df = df.dropna()\n",
    "# find the objects columns\n",
    "cols = df.columns[df.dtypes.eq('object')]\n",
    "# convert to numeric these columns\n",
    "df[cols] = df[cols].apply(pd.to_numeric, errors='coerce')"
   ]
  },
  {
   "cell_type": "code",
   "execution_count": 6,
   "metadata": {},
   "outputs": [
    {
     "output_type": "execute_result",
     "data": {
      "text/plain": "(1749, 22)"
     },
     "metadata": {},
     "execution_count": 6
    }
   ],
   "source": [
    "df.shape"
   ]
  },
  {
   "cell_type": "code",
   "execution_count": 7,
   "metadata": {},
   "outputs": [],
   "source": [
    "# split data into X and y\n",
    "array = df.values\n",
    "X = array[:,0:21]\n",
    "Y = array[:,21]"
   ]
  },
  {
   "cell_type": "code",
   "execution_count": 8,
   "metadata": {},
   "outputs": [
    {
     "output_type": "stream",
     "name": "stdout",
     "text": "Accuracy: 47.76% (6.72%)\n"
    }
   ],
   "source": [
    "# CV model\n",
    "model = xgboost.XGBClassifier(max_depth=10, n_estimators=200)\n",
    "kfold = StratifiedKFold(n_splits=10, random_state=7)\n",
    "results = cross_val_score(model, X, Y, cv=kfold, scoring='f1')\n",
    "print(\"Accuracy: %.2f%% (%.2f%%)\" % (results.mean()*100, results.std()*100))"
   ]
  },
  {
   "cell_type": "markdown",
   "metadata": {},
   "source": [
    "##### That's all folks!!!"
   ]
  },
  {
   "cell_type": "code",
   "execution_count": null,
   "metadata": {},
   "outputs": [],
   "source": []
  }
 ],
 "metadata": {
  "kernelspec": {
   "display_name": "Python 3.8.2 64-bit ('envck': venv)",
   "language": "python",
   "name": "python38264bitenvckvenv8b1a09b67e2b48e28e0d76561ebc5c19"
  },
  "language_info": {
   "codemirror_mode": {
    "name": "ipython",
    "version": 3
   },
   "file_extension": ".py",
   "mimetype": "text/x-python",
   "name": "python",
   "nbconvert_exporter": "python",
   "pygments_lexer": "ipython3",
   "version": "3.8.2-final"
  }
 },
 "nbformat": 4,
 "nbformat_minor": 2
}