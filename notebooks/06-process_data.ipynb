{
 "cells": [
  {
   "cell_type": "markdown",
   "metadata": {},
   "source": [
    "# K Means"
   ]
  },
  {
   "cell_type": "code",
   "execution_count": 49,
   "metadata": {},
   "outputs": [],
   "source": [
    "%matplotlib inline\n",
    "import matplotlib.pyplot as plt\n",
    "import seaborn as sns; sns.set()  # for plot styling\n",
    "import numpy as np\n",
    "import pandas as pd\n",
    "import re\n",
    "sns.set_style(\"white\")"
   ]
  },
  {
   "cell_type": "code",
   "execution_count": 50,
   "metadata": {},
   "outputs": [],
   "source": [
    "df = pd.read_csv('../experiments/models.csv')\n",
    "df = df.replace(r'\\n',' ', regex=True) \n",
    "df['feature'] = df['feature'].map(lambda x: x.lstrip('[]').rstrip('aAbBcC'))"
   ]
  },
  {
   "cell_type": "code",
   "execution_count": 51,
   "metadata": {},
   "outputs": [],
   "source": [
    "# Replace '|' in cells with series.str methods\n",
    "for col in df:\n",
    "    if df[col].dtype == 'object':\n",
    "        df[col] = df[col].str.replace(']', '')"
   ]
  },
  {
   "cell_type": "code",
   "execution_count": 52,
   "metadata": {},
   "outputs": [
    {
     "output_type": "execute_result",
     "data": {
      "text/plain": "   feature       acc\n0   'dit'   0.562432\n1   'noc'   0.516849\n2   'cbo'   0.610601\n3   'rfc'   0.643621\n4  'lcom'   0.611206",
      "text/html": "<div>\n<style scoped>\n    .dataframe tbody tr th:only-of-type {\n        vertical-align: middle;\n    }\n\n    .dataframe tbody tr th {\n        vertical-align: top;\n    }\n\n    .dataframe thead th {\n        text-align: right;\n    }\n</style>\n<table border=\"1\" class=\"dataframe\">\n  <thead>\n    <tr style=\"text-align: right;\">\n      <th></th>\n      <th>feature</th>\n      <th>acc</th>\n    </tr>\n  </thead>\n  <tbody>\n    <tr>\n      <th>0</th>\n      <td>'dit'</td>\n      <td>0.562432</td>\n    </tr>\n    <tr>\n      <th>1</th>\n      <td>'noc'</td>\n      <td>0.516849</td>\n    </tr>\n    <tr>\n      <th>2</th>\n      <td>'cbo'</td>\n      <td>0.610601</td>\n    </tr>\n    <tr>\n      <th>3</th>\n      <td>'rfc'</td>\n      <td>0.643621</td>\n    </tr>\n    <tr>\n      <th>4</th>\n      <td>'lcom'</td>\n      <td>0.611206</td>\n    </tr>\n  </tbody>\n</table>\n</div>"
     },
     "metadata": {},
     "execution_count": 52
    }
   ],
   "source": [
    "df.head()"
   ]
  },
  {
   "cell_type": "code",
   "execution_count": 53,
   "metadata": {},
   "outputs": [],
   "source": [
    "x = pd.read_csv('../experiments/accvar.csv')"
   ]
  },
  {
   "cell_type": "code",
   "execution_count": 54,
   "metadata": {},
   "outputs": [
    {
     "output_type": "execute_result",
     "data": {
      "text/plain": "  feature       acc       mad\n0     dit  0.802789  0.022259\n1     noc  0.789720  0.024277\n2     cbo  0.816549  0.019054\n3     rfc  0.819420  0.011875\n4    lcom  0.812041  0.020785",
      "text/html": "<div>\n<style scoped>\n    .dataframe tbody tr th:only-of-type {\n        vertical-align: middle;\n    }\n\n    .dataframe tbody tr th {\n        vertical-align: top;\n    }\n\n    .dataframe thead th {\n        text-align: right;\n    }\n</style>\n<table border=\"1\" class=\"dataframe\">\n  <thead>\n    <tr style=\"text-align: right;\">\n      <th></th>\n      <th>feature</th>\n      <th>acc</th>\n      <th>mad</th>\n    </tr>\n  </thead>\n  <tbody>\n    <tr>\n      <th>0</th>\n      <td>dit</td>\n      <td>0.802789</td>\n      <td>0.022259</td>\n    </tr>\n    <tr>\n      <th>1</th>\n      <td>noc</td>\n      <td>0.789720</td>\n      <td>0.024277</td>\n    </tr>\n    <tr>\n      <th>2</th>\n      <td>cbo</td>\n      <td>0.816549</td>\n      <td>0.019054</td>\n    </tr>\n    <tr>\n      <th>3</th>\n      <td>rfc</td>\n      <td>0.819420</td>\n      <td>0.011875</td>\n    </tr>\n    <tr>\n      <th>4</th>\n      <td>lcom</td>\n      <td>0.812041</td>\n      <td>0.020785</td>\n    </tr>\n  </tbody>\n</table>\n</div>"
     },
     "metadata": {},
     "execution_count": 54
    }
   ],
   "source": [
    "x.head()"
   ]
  },
  {
   "cell_type": "code",
   "execution_count": 55,
   "metadata": {},
   "outputs": [],
   "source": [
    "features=df['feature'].tolist()\n",
    "feat=x['feature'].tolist()\n",
    "accs=x['acc'].tolist()\n",
    "var=x['mad'].tolist()"
   ]
  },
  {
   "cell_type": "code",
   "execution_count": 56,
   "metadata": {},
   "outputs": [],
   "source": [
    "f2 = []\n",
    "\n",
    "for x in features:\n",
    "    y = x.replace(\"'\", \"\")\n",
    "    f2.append(y)"
   ]
  },
  {
   "cell_type": "code",
   "execution_count": 57,
   "metadata": {},
   "outputs": [],
   "source": [
    "def define_var(features, feat, accs):\n",
    "\n",
    "    sum = 0\n",
    "    count = 0\n",
    "    results = []\n",
    "\n",
    "    for i in features:\n",
    "        i = i.replace(\" \", \"\")\n",
    "        each_feature = i.split(\",\")\n",
    "        sum = 0\n",
    "        count = 0\n",
    "        for j in each_feature:\n",
    "            j = j.replace(\" \", \"\")\n",
    "            new_j = re.sub('[^a-zA-Z0-9 \\n\\.]', '', j)\n",
    "            for f, acc in zip(feat, accs):\n",
    "                new_f = re.sub('[^a-zA-Z0-9 \\n\\.]', '', f)\n",
    "                new_f = new_f.replace(\" \", \"\")\n",
    "                if new_f == new_j:\n",
    "                    sum = sum + acc\n",
    "                    count = count + 1\n",
    "\n",
    "        results.append(sum/count)\n",
    "            \n",
    "    return results"
   ]
  },
  {
   "cell_type": "code",
   "execution_count": 58,
   "metadata": {},
   "outputs": [],
   "source": [
    "rr = define_var(f2, feat, var)\n",
    "#rr2 = define_var(f2, feat, accs)"
   ]
  },
  {
   "cell_type": "code",
   "execution_count": 59,
   "metadata": {},
   "outputs": [
    {
     "output_type": "execute_result",
     "data": {
      "text/plain": "(5204, 2)"
     },
     "metadata": {},
     "execution_count": 59
    }
   ],
   "source": [
    "df.shape"
   ]
  },
  {
   "cell_type": "code",
   "execution_count": 60,
   "metadata": {},
   "outputs": [],
   "source": [
    "df['var'] = rr"
   ]
  },
  {
   "cell_type": "code",
   "execution_count": 61,
   "metadata": {},
   "outputs": [
    {
     "output_type": "execute_result",
     "data": {
      "text/plain": "          feature       acc       var\n0          'dit'   0.562432  0.022259\n1          'noc'   0.516849  0.024277\n2          'cbo'   0.610601  0.019054\n3          'rfc'   0.643621  0.011875\n4         'lcom'   0.611206  0.020785\n5           'ca'   0.558651  0.022309\n6           'ce'   0.603316  0.016290\n7          'npm'   0.612806  0.021039\n8        'lcom3'   0.611960  0.020699\n9          'loc'   0.666310  0.013485\n10         'dam'   0.569671  0.023298\n11         'moa'   0.552392  0.024278\n12         'mfa'   0.625070  0.019202\n13         'cam'   0.644383  0.018779\n14          'ic'   0.540361  0.023720\n15         'cbm'   0.548826  0.023182\n16         'amc'   0.656767  0.011175\n17      'max_cc'   0.611521  0.019662\n18      'avg_cc'   0.628846  0.019574\n19  'loc', 'dit'   0.696939  0.017872",
      "text/html": "<div>\n<style scoped>\n    .dataframe tbody tr th:only-of-type {\n        vertical-align: middle;\n    }\n\n    .dataframe tbody tr th {\n        vertical-align: top;\n    }\n\n    .dataframe thead th {\n        text-align: right;\n    }\n</style>\n<table border=\"1\" class=\"dataframe\">\n  <thead>\n    <tr style=\"text-align: right;\">\n      <th></th>\n      <th>feature</th>\n      <th>acc</th>\n      <th>var</th>\n    </tr>\n  </thead>\n  <tbody>\n    <tr>\n      <th>0</th>\n      <td>'dit'</td>\n      <td>0.562432</td>\n      <td>0.022259</td>\n    </tr>\n    <tr>\n      <th>1</th>\n      <td>'noc'</td>\n      <td>0.516849</td>\n      <td>0.024277</td>\n    </tr>\n    <tr>\n      <th>2</th>\n      <td>'cbo'</td>\n      <td>0.610601</td>\n      <td>0.019054</td>\n    </tr>\n    <tr>\n      <th>3</th>\n      <td>'rfc'</td>\n      <td>0.643621</td>\n      <td>0.011875</td>\n    </tr>\n    <tr>\n      <th>4</th>\n      <td>'lcom'</td>\n      <td>0.611206</td>\n      <td>0.020785</td>\n    </tr>\n    <tr>\n      <th>5</th>\n      <td>'ca'</td>\n      <td>0.558651</td>\n      <td>0.022309</td>\n    </tr>\n    <tr>\n      <th>6</th>\n      <td>'ce'</td>\n      <td>0.603316</td>\n      <td>0.016290</td>\n    </tr>\n    <tr>\n      <th>7</th>\n      <td>'npm'</td>\n      <td>0.612806</td>\n      <td>0.021039</td>\n    </tr>\n    <tr>\n      <th>8</th>\n      <td>'lcom3'</td>\n      <td>0.611960</td>\n      <td>0.020699</td>\n    </tr>\n    <tr>\n      <th>9</th>\n      <td>'loc'</td>\n      <td>0.666310</td>\n      <td>0.013485</td>\n    </tr>\n    <tr>\n      <th>10</th>\n      <td>'dam'</td>\n      <td>0.569671</td>\n      <td>0.023298</td>\n    </tr>\n    <tr>\n      <th>11</th>\n      <td>'moa'</td>\n      <td>0.552392</td>\n      <td>0.024278</td>\n    </tr>\n    <tr>\n      <th>12</th>\n      <td>'mfa'</td>\n      <td>0.625070</td>\n      <td>0.019202</td>\n    </tr>\n    <tr>\n      <th>13</th>\n      <td>'cam'</td>\n      <td>0.644383</td>\n      <td>0.018779</td>\n    </tr>\n    <tr>\n      <th>14</th>\n      <td>'ic'</td>\n      <td>0.540361</td>\n      <td>0.023720</td>\n    </tr>\n    <tr>\n      <th>15</th>\n      <td>'cbm'</td>\n      <td>0.548826</td>\n      <td>0.023182</td>\n    </tr>\n    <tr>\n      <th>16</th>\n      <td>'amc'</td>\n      <td>0.656767</td>\n      <td>0.011175</td>\n    </tr>\n    <tr>\n      <th>17</th>\n      <td>'max_cc'</td>\n      <td>0.611521</td>\n      <td>0.019662</td>\n    </tr>\n    <tr>\n      <th>18</th>\n      <td>'avg_cc'</td>\n      <td>0.628846</td>\n      <td>0.019574</td>\n    </tr>\n    <tr>\n      <th>19</th>\n      <td>'loc', 'dit'</td>\n      <td>0.696939</td>\n      <td>0.017872</td>\n    </tr>\n  </tbody>\n</table>\n</div>"
     },
     "metadata": {},
     "execution_count": 61
    }
   ],
   "source": [
    "df.head(20)"
   ]
  },
  {
   "cell_type": "code",
   "execution_count": 62,
   "metadata": {},
   "outputs": [],
   "source": [
    "results = df.acc.values\n",
    "df = df.drop('acc', axis=1)\n",
    "df['acc'] = results "
   ]
  },
  {
   "cell_type": "code",
   "execution_count": 63,
   "metadata": {},
   "outputs": [],
   "source": [
    "df.to_csv('../experiments/data-processed.csv', index = False, header=True)"
   ]
  },
  {
   "cell_type": "code",
   "execution_count": 48,
   "metadata": {},
   "outputs": [
    {
     "output_type": "execute_result",
     "data": {
      "text/plain": "   feature       var                                                acc\n0   'dit'   0.022259  [0.559987324980708, 0.5637415932560017, 0.5590...\n1   'noc'   0.024277  [0.517104537532966, 0.5157712899953203, 0.5199...\n2   'cbo'   0.019054  [0.6048307183698194, 0.6116156621531877, 0.610...\n3   'rfc'   0.011875  [0.6413733037753351, 0.6456404208874115, 0.647...\n4  'lcom'   0.020785  [0.6159020622371304, 0.6031793770029774, 0.621...",
      "text/html": "<div>\n<style scoped>\n    .dataframe tbody tr th:only-of-type {\n        vertical-align: middle;\n    }\n\n    .dataframe tbody tr th {\n        vertical-align: top;\n    }\n\n    .dataframe thead th {\n        text-align: right;\n    }\n</style>\n<table border=\"1\" class=\"dataframe\">\n  <thead>\n    <tr style=\"text-align: right;\">\n      <th></th>\n      <th>feature</th>\n      <th>var</th>\n      <th>acc</th>\n    </tr>\n  </thead>\n  <tbody>\n    <tr>\n      <th>0</th>\n      <td>'dit'</td>\n      <td>0.022259</td>\n      <td>[0.559987324980708, 0.5637415932560017, 0.5590...</td>\n    </tr>\n    <tr>\n      <th>1</th>\n      <td>'noc'</td>\n      <td>0.024277</td>\n      <td>[0.517104537532966, 0.5157712899953203, 0.5199...</td>\n    </tr>\n    <tr>\n      <th>2</th>\n      <td>'cbo'</td>\n      <td>0.019054</td>\n      <td>[0.6048307183698194, 0.6116156621531877, 0.610...</td>\n    </tr>\n    <tr>\n      <th>3</th>\n      <td>'rfc'</td>\n      <td>0.011875</td>\n      <td>[0.6413733037753351, 0.6456404208874115, 0.647...</td>\n    </tr>\n    <tr>\n      <th>4</th>\n      <td>'lcom'</td>\n      <td>0.020785</td>\n      <td>[0.6159020622371304, 0.6031793770029774, 0.621...</td>\n    </tr>\n  </tbody>\n</table>\n</div>"
     },
     "metadata": {},
     "execution_count": 48
    }
   ],
   "source": [
    "df.head()"
   ]
  },
  {
   "cell_type": "markdown",
   "metadata": {},
   "source": [
    "###### That's all folks!!!"
   ]
  }
 ],
 "metadata": {
  "kernelspec": {
   "display_name": "Python 3",
   "language": "python",
   "name": "python3"
  },
  "language_info": {
   "codemirror_mode": {
    "name": "ipython",
    "version": 3
   },
   "file_extension": ".py",
   "mimetype": "text/x-python",
   "name": "python",
   "nbconvert_exporter": "python",
   "pygments_lexer": "ipython3",
   "version": "3.8.2-final"
  }
 },
 "nbformat": 4,
 "nbformat_minor": 4
}