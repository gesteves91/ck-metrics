{
 "cells": [
  {
   "cell_type": "markdown",
   "metadata": {},
   "source": [
    "# K Means"
   ]
  },
  {
   "cell_type": "code",
   "execution_count": 1,
   "metadata": {},
   "outputs": [],
   "source": [
    "%matplotlib inline\n",
    "import matplotlib.pyplot as plt\n",
    "import seaborn as sns; sns.set()  # for plot styling\n",
    "import numpy as np\n",
    "import pandas as pd\n",
    "import re\n",
    "sns.set_style(\"white\")"
   ]
  },
  {
   "cell_type": "code",
   "execution_count": 2,
   "metadata": {},
   "outputs": [],
   "source": [
    "df = pd.read_csv('../experiments/models.csv')\n",
    "df = df.replace(r'\\n',' ', regex=True) \n",
    "df['feature'] = df['feature'].map(lambda x: x.lstrip('[]').rstrip('aAbBcC'))"
   ]
  },
  {
   "cell_type": "code",
   "execution_count": 3,
   "metadata": {},
   "outputs": [],
   "source": [
    "# Replace '|' in cells with series.str methods\n",
    "for col in df:\n",
    "    if df[col].dtype == 'object':\n",
    "        df[col] = df[col].str.replace(']', '')"
   ]
  },
  {
   "cell_type": "code",
   "execution_count": 4,
   "metadata": {},
   "outputs": [
    {
     "data": {
      "text/html": [
       "<div>\n",
       "<style scoped>\n",
       "    .dataframe tbody tr th:only-of-type {\n",
       "        vertical-align: middle;\n",
       "    }\n",
       "\n",
       "    .dataframe tbody tr th {\n",
       "        vertical-align: top;\n",
       "    }\n",
       "\n",
       "    .dataframe thead th {\n",
       "        text-align: right;\n",
       "    }\n",
       "</style>\n",
       "<table border=\"1\" class=\"dataframe\">\n",
       "  <thead>\n",
       "    <tr style=\"text-align: right;\">\n",
       "      <th></th>\n",
       "      <th>feature</th>\n",
       "      <th>acc</th>\n",
       "    </tr>\n",
       "  </thead>\n",
       "  <tbody>\n",
       "    <tr>\n",
       "      <th>0</th>\n",
       "      <td>'numberOfFixesUntil:'</td>\n",
       "      <td>0.623314</td>\n",
       "    </tr>\n",
       "    <tr>\n",
       "      <th>1</th>\n",
       "      <td>'linesAddedUntil:'</td>\n",
       "      <td>0.715443</td>\n",
       "    </tr>\n",
       "    <tr>\n",
       "      <th>2</th>\n",
       "      <td>'linesRemovedUntil:'</td>\n",
       "      <td>0.684659</td>\n",
       "    </tr>\n",
       "  </tbody>\n",
       "</table>\n",
       "</div>"
      ],
      "text/plain": [
       "                  feature       acc\n",
       "0  'numberOfFixesUntil:'   0.623314\n",
       "1     'linesAddedUntil:'   0.715443\n",
       "2   'linesRemovedUntil:'   0.684659"
      ]
     },
     "execution_count": 4,
     "metadata": {},
     "output_type": "execute_result"
    }
   ],
   "source": [
    "df.head(3)"
   ]
  },
  {
   "cell_type": "code",
   "execution_count": 5,
   "metadata": {},
   "outputs": [],
   "source": [
    "x = pd.read_csv('../experiments/accvar.csv')"
   ]
  },
  {
   "cell_type": "code",
   "execution_count": null,
   "metadata": {},
   "outputs": [],
   "source": []
  },
  {
   "cell_type": "code",
   "execution_count": 6,
   "metadata": {},
   "outputs": [
    {
     "data": {
      "text/html": [
       "<div>\n",
       "<style scoped>\n",
       "    .dataframe tbody tr th:only-of-type {\n",
       "        vertical-align: middle;\n",
       "    }\n",
       "\n",
       "    .dataframe tbody tr th {\n",
       "        vertical-align: top;\n",
       "    }\n",
       "\n",
       "    .dataframe thead th {\n",
       "        text-align: right;\n",
       "    }\n",
       "</style>\n",
       "<table border=\"1\" class=\"dataframe\">\n",
       "  <thead>\n",
       "    <tr style=\"text-align: right;\">\n",
       "      <th></th>\n",
       "      <th>feature</th>\n",
       "      <th>acc</th>\n",
       "      <th>mad</th>\n",
       "    </tr>\n",
       "  </thead>\n",
       "  <tbody>\n",
       "    <tr>\n",
       "      <th>0</th>\n",
       "      <td>numberOfFixesUntil:</td>\n",
       "      <td>0.849044</td>\n",
       "      <td>0.018968</td>\n",
       "    </tr>\n",
       "    <tr>\n",
       "      <th>1</th>\n",
       "      <td>linesAddedUntil:</td>\n",
       "      <td>0.861745</td>\n",
       "      <td>0.013857</td>\n",
       "    </tr>\n",
       "    <tr>\n",
       "      <th>2</th>\n",
       "      <td>linesRemovedUntil:</td>\n",
       "      <td>0.854458</td>\n",
       "      <td>0.015484</td>\n",
       "    </tr>\n",
       "    <tr>\n",
       "      <th>3</th>\n",
       "      <td>maxLinesRemovedUntil:</td>\n",
       "      <td>0.857912</td>\n",
       "      <td>0.018372</td>\n",
       "    </tr>\n",
       "    <tr>\n",
       "      <th>4</th>\n",
       "      <td>codeChurnUntil:</td>\n",
       "      <td>0.860802</td>\n",
       "      <td>0.016148</td>\n",
       "    </tr>\n",
       "  </tbody>\n",
       "</table>\n",
       "</div>"
      ],
      "text/plain": [
       "                 feature       acc       mad\n",
       "0    numberOfFixesUntil:  0.849044  0.018968\n",
       "1       linesAddedUntil:  0.861745  0.013857\n",
       "2     linesRemovedUntil:  0.854458  0.015484\n",
       "3  maxLinesRemovedUntil:  0.857912  0.018372\n",
       "4        codeChurnUntil:  0.860802  0.016148"
      ]
     },
     "execution_count": 6,
     "metadata": {},
     "output_type": "execute_result"
    }
   ],
   "source": [
    "x.head()"
   ]
  },
  {
   "cell_type": "code",
   "execution_count": 7,
   "metadata": {},
   "outputs": [],
   "source": [
    "features=df['feature'].tolist()\n",
    "feat=x['feature'].tolist()\n",
    "accs=x['acc'].tolist()\n",
    "var=x['mad'].tolist()"
   ]
  },
  {
   "cell_type": "code",
   "execution_count": 8,
   "metadata": {},
   "outputs": [],
   "source": [
    "f2 = []\n",
    "\n",
    "for x in features:\n",
    "    y = x.replace(\"'\", \"\")\n",
    "    f2.append(y)"
   ]
  },
  {
   "cell_type": "code",
   "execution_count": 9,
   "metadata": {},
   "outputs": [],
   "source": [
    "def define_var(features, feat, accs):\n",
    "\n",
    "    sum = 0\n",
    "    count = 0\n",
    "    results = []\n",
    "\n",
    "    for i in features:\n",
    "        i = i.replace(\" \", \"\")\n",
    "        each_feature = i.split(\",\")\n",
    "        sum = 0\n",
    "        count = 0\n",
    "        for j in each_feature:\n",
    "            j = j.replace(\" \", \"\")\n",
    "            new_j = re.sub('[^a-zA-Z0-9 \\n\\.]', '', j)\n",
    "            for f, acc in zip(feat, accs):\n",
    "                new_f = re.sub('[^a-zA-Z0-9 \\n\\.]', '', f)\n",
    "                new_f = new_f.replace(\" \", \"\")\n",
    "                if new_f == new_j:\n",
    "                    sum = sum + acc\n",
    "                    count = count + 1\n",
    "\n",
    "        results.append(sum/count)\n",
    "            \n",
    "    return results"
   ]
  },
  {
   "cell_type": "code",
   "execution_count": 10,
   "metadata": {},
   "outputs": [],
   "source": [
    "rr = define_var(f2, feat, var)\n",
    "#rr2 = define_var(f2, feat, accs)"
   ]
  },
  {
   "cell_type": "code",
   "execution_count": 11,
   "metadata": {},
   "outputs": [
    {
     "data": {
      "text/plain": [
       "(6377, 2)"
      ]
     },
     "execution_count": 11,
     "metadata": {},
     "output_type": "execute_result"
    }
   ],
   "source": [
    "df.shape"
   ]
  },
  {
   "cell_type": "code",
   "execution_count": 12,
   "metadata": {},
   "outputs": [],
   "source": [
    "df['var'] = rr"
   ]
  },
  {
   "cell_type": "code",
   "execution_count": 13,
   "metadata": {},
   "outputs": [
    {
     "data": {
      "text/html": [
       "<div>\n",
       "<style scoped>\n",
       "    .dataframe tbody tr th:only-of-type {\n",
       "        vertical-align: middle;\n",
       "    }\n",
       "\n",
       "    .dataframe tbody tr th {\n",
       "        vertical-align: top;\n",
       "    }\n",
       "\n",
       "    .dataframe thead th {\n",
       "        text-align: right;\n",
       "    }\n",
       "</style>\n",
       "<table border=\"1\" class=\"dataframe\">\n",
       "  <thead>\n",
       "    <tr style=\"text-align: right;\">\n",
       "      <th></th>\n",
       "      <th>feature</th>\n",
       "      <th>acc</th>\n",
       "      <th>var</th>\n",
       "    </tr>\n",
       "  </thead>\n",
       "  <tbody>\n",
       "    <tr>\n",
       "      <th>0</th>\n",
       "      <td>'numberOfFixesUntil:'</td>\n",
       "      <td>0.623314</td>\n",
       "      <td>0.018968</td>\n",
       "    </tr>\n",
       "    <tr>\n",
       "      <th>1</th>\n",
       "      <td>'linesAddedUntil:'</td>\n",
       "      <td>0.715443</td>\n",
       "      <td>0.013857</td>\n",
       "    </tr>\n",
       "    <tr>\n",
       "      <th>2</th>\n",
       "      <td>'linesRemovedUntil:'</td>\n",
       "      <td>0.684659</td>\n",
       "      <td>0.015484</td>\n",
       "    </tr>\n",
       "    <tr>\n",
       "      <th>3</th>\n",
       "      <td>'maxLinesRemovedUntil:'</td>\n",
       "      <td>0.683040</td>\n",
       "      <td>0.018372</td>\n",
       "    </tr>\n",
       "    <tr>\n",
       "      <th>4</th>\n",
       "      <td>'codeChurnUntil:'</td>\n",
       "      <td>0.696981</td>\n",
       "      <td>0.016148</td>\n",
       "    </tr>\n",
       "    <tr>\n",
       "      <th>5</th>\n",
       "      <td>'ageWithRespectTo:'</td>\n",
       "      <td>0.685788</td>\n",
       "      <td>0.012105</td>\n",
       "    </tr>\n",
       "    <tr>\n",
       "      <th>6</th>\n",
       "      <td>'weightedAgeWithRespectTo:'</td>\n",
       "      <td>0.556560</td>\n",
       "      <td>0.021013</td>\n",
       "    </tr>\n",
       "    <tr>\n",
       "      <th>7</th>\n",
       "      <td>'CvsEntropy'</td>\n",
       "      <td>0.705792</td>\n",
       "      <td>0.017396</td>\n",
       "    </tr>\n",
       "    <tr>\n",
       "      <th>8</th>\n",
       "      <td>'CvsWEntropy'</td>\n",
       "      <td>0.725067</td>\n",
       "      <td>0.013969</td>\n",
       "    </tr>\n",
       "    <tr>\n",
       "      <th>9</th>\n",
       "      <td>'CvsLogEntropy'</td>\n",
       "      <td>0.704131</td>\n",
       "      <td>0.013102</td>\n",
       "    </tr>\n",
       "    <tr>\n",
       "      <th>10</th>\n",
       "      <td>'CvsExpEntropy'</td>\n",
       "      <td>0.655067</td>\n",
       "      <td>0.014615</td>\n",
       "    </tr>\n",
       "    <tr>\n",
       "      <th>11</th>\n",
       "      <td>'cbo'</td>\n",
       "      <td>0.709591</td>\n",
       "      <td>0.012738</td>\n",
       "    </tr>\n",
       "    <tr>\n",
       "      <th>12</th>\n",
       "      <td>'dit'</td>\n",
       "      <td>0.519048</td>\n",
       "      <td>0.020456</td>\n",
       "    </tr>\n",
       "    <tr>\n",
       "      <th>13</th>\n",
       "      <td>'fanIn'</td>\n",
       "      <td>0.608380</td>\n",
       "      <td>0.018438</td>\n",
       "    </tr>\n",
       "    <tr>\n",
       "      <th>14</th>\n",
       "      <td>'fanOut'</td>\n",
       "      <td>0.717206</td>\n",
       "      <td>0.012459</td>\n",
       "    </tr>\n",
       "    <tr>\n",
       "      <th>15</th>\n",
       "      <td>'numberOfAttributes'</td>\n",
       "      <td>0.656468</td>\n",
       "      <td>0.018039</td>\n",
       "    </tr>\n",
       "    <tr>\n",
       "      <th>16</th>\n",
       "      <td>'numberOfAttributesInherited'</td>\n",
       "      <td>0.548467</td>\n",
       "      <td>0.019687</td>\n",
       "    </tr>\n",
       "    <tr>\n",
       "      <th>17</th>\n",
       "      <td>'numberOfMethodsInherited'</td>\n",
       "      <td>0.598972</td>\n",
       "      <td>0.017768</td>\n",
       "    </tr>\n",
       "    <tr>\n",
       "      <th>18</th>\n",
       "      <td>'numberOfPrivateMethods'</td>\n",
       "      <td>0.658536</td>\n",
       "      <td>0.015453</td>\n",
       "    </tr>\n",
       "    <tr>\n",
       "      <th>19</th>\n",
       "      <td>'rfc'</td>\n",
       "      <td>0.714098</td>\n",
       "      <td>0.013845</td>\n",
       "    </tr>\n",
       "  </tbody>\n",
       "</table>\n",
       "</div>"
      ],
      "text/plain": [
       "                           feature       acc       var\n",
       "0           'numberOfFixesUntil:'   0.623314  0.018968\n",
       "1              'linesAddedUntil:'   0.715443  0.013857\n",
       "2            'linesRemovedUntil:'   0.684659  0.015484\n",
       "3         'maxLinesRemovedUntil:'   0.683040  0.018372\n",
       "4               'codeChurnUntil:'   0.696981  0.016148\n",
       "5             'ageWithRespectTo:'   0.685788  0.012105\n",
       "6     'weightedAgeWithRespectTo:'   0.556560  0.021013\n",
       "7                    'CvsEntropy'   0.705792  0.017396\n",
       "8                   'CvsWEntropy'   0.725067  0.013969\n",
       "9                 'CvsLogEntropy'   0.704131  0.013102\n",
       "10                'CvsExpEntropy'   0.655067  0.014615\n",
       "11                          'cbo'   0.709591  0.012738\n",
       "12                          'dit'   0.519048  0.020456\n",
       "13                        'fanIn'   0.608380  0.018438\n",
       "14                       'fanOut'   0.717206  0.012459\n",
       "15           'numberOfAttributes'   0.656468  0.018039\n",
       "16  'numberOfAttributesInherited'   0.548467  0.019687\n",
       "17     'numberOfMethodsInherited'   0.598972  0.017768\n",
       "18       'numberOfPrivateMethods'   0.658536  0.015453\n",
       "19                          'rfc'   0.714098  0.013845"
      ]
     },
     "execution_count": 13,
     "metadata": {},
     "output_type": "execute_result"
    }
   ],
   "source": [
    "df.head(20)"
   ]
  },
  {
   "cell_type": "code",
   "execution_count": 149,
   "metadata": {},
   "outputs": [],
   "source": [
    "results = df.acc.values\n",
    "df = df.drop('acc', axis=1)\n",
    "df['acc'] = results "
   ]
  },
  {
   "cell_type": "code",
   "execution_count": 151,
   "metadata": {},
   "outputs": [],
   "source": [
    "df.to_csv('../experiments/data-processed.csv', index = False, header=True)"
   ]
  },
  {
   "cell_type": "code",
   "execution_count": null,
   "metadata": {},
   "outputs": [],
   "source": []
  },
  {
   "cell_type": "code",
   "execution_count": 14,
   "metadata": {},
   "outputs": [],
   "source": [
    "df2 = df['feature'].str.get_dummies(sep=',')"
   ]
  },
  {
   "cell_type": "code",
   "execution_count": 15,
   "metadata": {},
   "outputs": [],
   "source": [
    "df2['acc'] = df['acc']"
   ]
  },
  {
   "cell_type": "code",
   "execution_count": 16,
   "metadata": {},
   "outputs": [
    {
     "data": {
      "text/html": [
       "<div>\n",
       "<style scoped>\n",
       "    .dataframe tbody tr th:only-of-type {\n",
       "        vertical-align: middle;\n",
       "    }\n",
       "\n",
       "    .dataframe tbody tr th {\n",
       "        vertical-align: top;\n",
       "    }\n",
       "\n",
       "    .dataframe thead th {\n",
       "        text-align: right;\n",
       "    }\n",
       "</style>\n",
       "<table border=\"1\" class=\"dataframe\">\n",
       "  <thead>\n",
       "    <tr style=\"text-align: right;\">\n",
       "      <th></th>\n",
       "      <th>'CvsEntropy'</th>\n",
       "      <th>'CvsEntropy'</th>\n",
       "      <th>'CvsExpEntropy'</th>\n",
       "      <th>'CvsExpEntropy'</th>\n",
       "      <th>'CvsLogEntropy'</th>\n",
       "      <th>'CvsLogEntropy'</th>\n",
       "      <th>'CvsWEntropy'</th>\n",
       "      <th>'CvsWEntropy'</th>\n",
       "      <th>'ageWithRespectTo:'</th>\n",
       "      <th>'ageWithRespectTo:'</th>\n",
       "      <th>...</th>\n",
       "      <th>'numberOfFixesUntil:'</th>\n",
       "      <th>'numberOfFixesUntil:'</th>\n",
       "      <th>'numberOfMethodsInherited'</th>\n",
       "      <th>'numberOfMethodsInherited'</th>\n",
       "      <th>'numberOfPrivateMethods'</th>\n",
       "      <th>'numberOfPrivateMethods'</th>\n",
       "      <th>'rfc'</th>\n",
       "      <th>'weightedAgeWithRespectTo:'</th>\n",
       "      <th>'weightedAgeWithRespectTo:'</th>\n",
       "      <th>acc</th>\n",
       "    </tr>\n",
       "  </thead>\n",
       "  <tbody>\n",
       "    <tr>\n",
       "      <th>0</th>\n",
       "      <td>0</td>\n",
       "      <td>0</td>\n",
       "      <td>0</td>\n",
       "      <td>0</td>\n",
       "      <td>0</td>\n",
       "      <td>0</td>\n",
       "      <td>0</td>\n",
       "      <td>0</td>\n",
       "      <td>0</td>\n",
       "      <td>0</td>\n",
       "      <td>...</td>\n",
       "      <td>0</td>\n",
       "      <td>1</td>\n",
       "      <td>0</td>\n",
       "      <td>0</td>\n",
       "      <td>0</td>\n",
       "      <td>0</td>\n",
       "      <td>0</td>\n",
       "      <td>0</td>\n",
       "      <td>0</td>\n",
       "      <td>0.623314</td>\n",
       "    </tr>\n",
       "    <tr>\n",
       "      <th>1</th>\n",
       "      <td>0</td>\n",
       "      <td>0</td>\n",
       "      <td>0</td>\n",
       "      <td>0</td>\n",
       "      <td>0</td>\n",
       "      <td>0</td>\n",
       "      <td>0</td>\n",
       "      <td>0</td>\n",
       "      <td>0</td>\n",
       "      <td>0</td>\n",
       "      <td>...</td>\n",
       "      <td>0</td>\n",
       "      <td>0</td>\n",
       "      <td>0</td>\n",
       "      <td>0</td>\n",
       "      <td>0</td>\n",
       "      <td>0</td>\n",
       "      <td>0</td>\n",
       "      <td>0</td>\n",
       "      <td>0</td>\n",
       "      <td>0.715443</td>\n",
       "    </tr>\n",
       "    <tr>\n",
       "      <th>2</th>\n",
       "      <td>0</td>\n",
       "      <td>0</td>\n",
       "      <td>0</td>\n",
       "      <td>0</td>\n",
       "      <td>0</td>\n",
       "      <td>0</td>\n",
       "      <td>0</td>\n",
       "      <td>0</td>\n",
       "      <td>0</td>\n",
       "      <td>0</td>\n",
       "      <td>...</td>\n",
       "      <td>0</td>\n",
       "      <td>0</td>\n",
       "      <td>0</td>\n",
       "      <td>0</td>\n",
       "      <td>0</td>\n",
       "      <td>0</td>\n",
       "      <td>0</td>\n",
       "      <td>0</td>\n",
       "      <td>0</td>\n",
       "      <td>0.684659</td>\n",
       "    </tr>\n",
       "    <tr>\n",
       "      <th>3</th>\n",
       "      <td>0</td>\n",
       "      <td>0</td>\n",
       "      <td>0</td>\n",
       "      <td>0</td>\n",
       "      <td>0</td>\n",
       "      <td>0</td>\n",
       "      <td>0</td>\n",
       "      <td>0</td>\n",
       "      <td>0</td>\n",
       "      <td>0</td>\n",
       "      <td>...</td>\n",
       "      <td>0</td>\n",
       "      <td>0</td>\n",
       "      <td>0</td>\n",
       "      <td>0</td>\n",
       "      <td>0</td>\n",
       "      <td>0</td>\n",
       "      <td>0</td>\n",
       "      <td>0</td>\n",
       "      <td>0</td>\n",
       "      <td>0.683040</td>\n",
       "    </tr>\n",
       "    <tr>\n",
       "      <th>4</th>\n",
       "      <td>0</td>\n",
       "      <td>0</td>\n",
       "      <td>0</td>\n",
       "      <td>0</td>\n",
       "      <td>0</td>\n",
       "      <td>0</td>\n",
       "      <td>0</td>\n",
       "      <td>0</td>\n",
       "      <td>0</td>\n",
       "      <td>0</td>\n",
       "      <td>...</td>\n",
       "      <td>0</td>\n",
       "      <td>0</td>\n",
       "      <td>0</td>\n",
       "      <td>0</td>\n",
       "      <td>0</td>\n",
       "      <td>0</td>\n",
       "      <td>0</td>\n",
       "      <td>0</td>\n",
       "      <td>0</td>\n",
       "      <td>0.696981</td>\n",
       "    </tr>\n",
       "  </tbody>\n",
       "</table>\n",
       "<p>5 rows × 80 columns</p>\n",
       "</div>"
      ],
      "text/plain": [
       "    'CvsEntropy'   'CvsEntropy'    'CvsExpEntropy'   'CvsExpEntropy'   \\\n",
       "0              0               0                 0                  0   \n",
       "1              0               0                 0                  0   \n",
       "2              0               0                 0                  0   \n",
       "3              0               0                 0                  0   \n",
       "4              0               0                 0                  0   \n",
       "\n",
       "    'CvsLogEntropy'   'CvsLogEntropy'    'CvsWEntropy'   'CvsWEntropy'   \\\n",
       "0                 0                  0               0                0   \n",
       "1                 0                  0               0                0   \n",
       "2                 0                  0               0                0   \n",
       "3                 0                  0               0                0   \n",
       "4                 0                  0               0                0   \n",
       "\n",
       "    'ageWithRespectTo:'   'ageWithRespectTo:'   ...  'numberOfFixesUntil:'  \\\n",
       "0                     0                      0  ...                      0   \n",
       "1                     0                      0  ...                      0   \n",
       "2                     0                      0  ...                      0   \n",
       "3                     0                      0  ...                      0   \n",
       "4                     0                      0  ...                      0   \n",
       "\n",
       "   'numberOfFixesUntil:'   'numberOfMethodsInherited'  \\\n",
       "0                       1                           0   \n",
       "1                       0                           0   \n",
       "2                       0                           0   \n",
       "3                       0                           0   \n",
       "4                       0                           0   \n",
       "\n",
       "   'numberOfMethodsInherited'   'numberOfPrivateMethods'  \\\n",
       "0                            0                         0   \n",
       "1                            0                         0   \n",
       "2                            0                         0   \n",
       "3                            0                         0   \n",
       "4                            0                         0   \n",
       "\n",
       "   'numberOfPrivateMethods'   'rfc'   'weightedAgeWithRespectTo:'  \\\n",
       "0                          0       0                            0   \n",
       "1                          0       0                            0   \n",
       "2                          0       0                            0   \n",
       "3                          0       0                            0   \n",
       "4                          0       0                            0   \n",
       "\n",
       "   'weightedAgeWithRespectTo:'        acc  \n",
       "0                             0  0.623314  \n",
       "1                             0  0.715443  \n",
       "2                             0  0.684659  \n",
       "3                             0  0.683040  \n",
       "4                             0  0.696981  \n",
       "\n",
       "[5 rows x 80 columns]"
      ]
     },
     "execution_count": 16,
     "metadata": {},
     "output_type": "execute_result"
    }
   ],
   "source": [
    "df2.head()"
   ]
  },
  {
   "cell_type": "code",
   "execution_count": 176,
   "metadata": {},
   "outputs": [],
   "source": [
    "df2.to_csv('../experiments/data-processed.csv', index = False, header=True)"
   ]
  },
  {
   "cell_type": "code",
   "execution_count": 133,
   "metadata": {},
   "outputs": [],
   "source": [
    "x = df2.values"
   ]
  },
  {
   "cell_type": "code",
   "execution_count": 134,
   "metadata": {},
   "outputs": [
    {
     "data": {
      "text/plain": [
       "array([[0.        , 0.        , 0.        , ..., 0.        , 0.        ,\n",
       "        0.62331417],\n",
       "       [0.        , 0.        , 0.        , ..., 0.        , 0.        ,\n",
       "        0.71544274],\n",
       "       [0.        , 0.        , 0.        , ..., 0.        , 0.        ,\n",
       "        0.68465891],\n",
       "       ...,\n",
       "       [0.        , 0.        , 0.        , ..., 0.        , 0.        ,\n",
       "        0.76374498],\n",
       "       [0.        , 0.        , 0.        , ..., 0.        , 0.        ,\n",
       "        0.75464979],\n",
       "       [0.        , 0.        , 1.        , ..., 0.        , 0.        ,\n",
       "        0.79425829]])"
      ]
     },
     "execution_count": 134,
     "metadata": {},
     "output_type": "execute_result"
    }
   ],
   "source": [
    "\n",
    "#df['mad'] = df.mad(axis=1)"
   ]
  },
  {
   "cell_type": "code",
   "execution_count": 135,
   "metadata": {},
   "outputs": [
    {
     "data": {
      "text/plain": [
       "array([2, 2, 2, ..., 0, 2, 2], dtype=int32)"
      ]
     },
     "execution_count": 135,
     "metadata": {},
     "output_type": "execute_result"
    }
   ],
   "source": [
    "kmeans5 = KMeans(n_clusters=5)\n",
    "y_kmeans5 = kmeans5.fit_predict(x)\n",
    "y_kmeans5"
   ]
  },
  {
   "cell_type": "code",
   "execution_count": 136,
   "metadata": {},
   "outputs": [
    {
     "data": {
      "text/plain": [
       "array([[ 1.06566200e-01, -1.28369537e-16,  1.30247578e-01,\n",
       "        -2.01227923e-16,  1.17330463e-01,  2.63677968e-16,\n",
       "         1.06566200e-01,  1.71737624e-16,  8.07319699e-02,\n",
       "        -6.33174069e-17,  1.35629709e-01, -3.05311332e-16,\n",
       "         6.13562971e-02, -1.51788304e-17,  1.47470398e-01,\n",
       "         8.04911693e-16,  1.49623251e-01, -2.84494650e-16,\n",
       "         1.55005382e-01, -6.66133815e-16,  1.07642626e-03,\n",
       "        -3.16587034e-17,  1.93756728e-02,  6.50521303e-18,\n",
       "         4.62863294e-02, -1.23599048e-17,  1.59311087e-01,\n",
       "         9.57567359e-16,  1.68998924e-01,  2.41473508e-15,\n",
       "         5.38213132e-03,  7.58941521e-18,  1.65769645e-01,\n",
       "         2.44249065e-15,  8.32667268e-17,  1.00000000e+00,\n",
       "         4.30570506e-03,  2.74780199e-15,  8.93433800e-02,\n",
       "         8.58688121e-17,  6.02798708e-02, -1.68051337e-18,\n",
       "         3.12163617e-02, -1.68051337e-18,  3.98277718e-02,\n",
       "        -1.68051337e-18,  6.24327234e-02, -1.68051337e-18,\n",
       "         8.50376749e-02, -1.68051337e-18,  2.36813778e-02,\n",
       "        -1.68051337e-18,  9.90312164e-02, -1.68051337e-18,\n",
       "         1.72228202e-02, -1.68051337e-18,  1.18406889e-02,\n",
       "        -1.68051337e-18,  7.53498385e-03, -1.68051337e-18,\n",
       "         1.47470398e-01, -1.68051337e-18,  1.30247578e-01,\n",
       "        -1.68051337e-18,  1.14101184e-01, -1.68051337e-18,\n",
       "         4.30570506e-03, -1.68051337e-18,  2.15285253e-03,\n",
       "        -1.68051337e-18,  9.04198062e-02, -1.68051337e-18,\n",
       "         1.07642626e-03, -1.68051337e-18, -8.40256684e-19,\n",
       "        -1.68051337e-18, -1.68051337e-18,  7.21205597e-02,\n",
       "        -1.68051337e-18,  7.52985381e-01],\n",
       "       [ 1.15023474e-01, -3.33066907e-16,  1.47887324e-01,\n",
       "         6.59194921e-17,  1.37715180e-01,  3.36536354e-16,\n",
       "         1.25978091e-01, -5.37764278e-17,  8.52895149e-02,\n",
       "        -9.36750677e-17,  1.56494523e-01, -4.71844785e-16,\n",
       "         6.33802817e-02, -1.60461922e-17,  1.63536776e-01,\n",
       "         9.71445147e-16,  1.69014085e-01, -2.91433544e-16,\n",
       "         1.72926448e-01, -9.99200722e-16,  3.19189120e-16,\n",
       "        -4.68375339e-17,  2.26917058e-02,  6.11490025e-17,\n",
       "         4.46009390e-02, -3.14418630e-17,  1.75273865e-01,\n",
       "         2.13717932e-15,  9.38967136e-02,  4.52269171e-01,\n",
       "         2.42861287e-17, -1.66967135e-17,  1.21430643e-15,\n",
       "         5.47730829e-01,  3.19189120e-16, -3.94129174e-15,\n",
       "        -1.30104261e-16,  5.63438185e-15,  9.78090767e-02,\n",
       "        -2.68882139e-17,  6.49452269e-02,  3.30681663e-18,\n",
       "         2.97339593e-02,  3.30681663e-18,  3.99061033e-02,\n",
       "         3.30681663e-18,  5.71205008e-02,  3.30681663e-18,\n",
       "         9.62441315e-02,  3.30681663e-18,  2.11267606e-02,\n",
       "         3.30681663e-18,  1.14241002e-01,  3.30681663e-18,\n",
       "         1.40845070e-02,  3.30681663e-18,  8.60719875e-03,\n",
       "         3.30681663e-18,  4.69483568e-03,  3.30681663e-18,\n",
       "         1.77621283e-01,  3.30681663e-18,  1.54929577e-01,\n",
       "         3.30681663e-18,  1.33802817e-01,  3.30681663e-18,\n",
       "         2.34741784e-03,  3.30681663e-18,  7.82472613e-04,\n",
       "         3.30681663e-18, -2.38697950e-15,  3.30681663e-18,\n",
       "        -2.81892565e-18,  3.30681663e-18,  1.65340831e-18,\n",
       "         3.30681663e-18,  3.30681663e-18,  7.98122066e-02,\n",
       "         3.30681663e-18,  7.52456402e-01],\n",
       "       [ 2.10476190e-01,  2.04761905e-02,  1.57142857e-01,\n",
       "         6.61904762e-02,  1.60000000e-01,  4.95238095e-02,\n",
       "         1.63333333e-01,  3.00000000e-02,  1.90476190e-01,\n",
       "         7.14285714e-03,  1.33333333e-01,  8.90476190e-02,\n",
       "         1.48095238e-01,  5.23809524e-03,  1.21428571e-01,\n",
       "         1.14285714e-01,  8.00000000e-02,  1.47619048e-01,\n",
       "         4.33333333e-02,  1.85238095e-01,  5.62050406e-16,\n",
       "         5.71428571e-03,  4.33333333e-02,  6.19047619e-03,\n",
       "         1.24285714e-01,  2.85714286e-03,  5.55111512e-16,\n",
       "         2.29047619e-01,  2.61904762e-02,  1.42857143e-03,\n",
       "         2.09523810e-02,  3.33333333e-03,  3.33333333e-03,\n",
       "         3.33333333e-03,  5.62050406e-16,  1.49880108e-15,\n",
       "         1.61904762e-02,  8.60422844e-15,  1.81904762e-01,\n",
       "         1.42857143e-02,  4.38095238e-02,  9.52380952e-04,\n",
       "         1.19047619e-02,  9.52380952e-04,  1.95238095e-02,\n",
       "         9.52380952e-04,  9.42857143e-02,  9.52380952e-04,\n",
       "         8.33333333e-02,  9.52380952e-04,  6.66666667e-03,\n",
       "         9.52380952e-04,  1.10000000e-01,  9.52380952e-04,\n",
       "         3.33333333e-03,  9.52380952e-04,  1.42857143e-03,\n",
       "         9.52380952e-04,  4.76190476e-04,  9.52380952e-04,\n",
       "         2.23333333e-01,  9.52380952e-04,  1.79523810e-01,\n",
       "         9.52380952e-04,  1.41904762e-01,  9.52380952e-04,\n",
       "        -8.37004077e-17,  9.52380952e-04, -4.18502039e-17,\n",
       "         9.52380952e-04,  6.38378239e-15,  9.52380952e-04,\n",
       "        -2.87313576e-18,  9.52380952e-04, -2.43945489e-18,\n",
       "         9.52380952e-04,  9.52380952e-04,  6.14285714e-02,\n",
       "         9.52380952e-04,  7.59255556e-01],\n",
       "       [ 9.23913043e-02, -2.46330734e-16,  1.16847826e-01,\n",
       "        -3.26128013e-16,  1.07789855e-01,  3.05311332e-16,\n",
       "         9.87318841e-02,  1.76941795e-16,  6.88405797e-02,\n",
       "        -8.06646416e-17,  1.25000000e-01, -4.02455846e-16,\n",
       "         5.25362319e-02, -1.56125113e-17,  1.32246377e-01,\n",
       "         9.02056208e-16,  1.38586957e-01, -2.84494650e-16,\n",
       "         1.44021739e-01, -8.60422844e-16,  2.71739130e-03,\n",
       "        -4.03323208e-17,  1.90217391e-02,  3.81639165e-17,\n",
       "         3.89492754e-02, -2.38524478e-17,  1.48550725e-01,\n",
       "         1.63757896e-15,  1.53985507e-01,  3.12250226e-15,\n",
       "         9.05797101e-04, -6.50521303e-18,  1.53985507e-01,\n",
       "         2.99760217e-15,  1.54891304e-01, -3.60822483e-15,\n",
       "        -1.21430643e-16,  1.00000000e+00,  7.78985507e-02,\n",
       "         8.84708973e-17,  6.06884058e-02,  1.19262239e-18,\n",
       "         3.35144928e-02,  1.19262239e-18,  4.16666667e-02,\n",
       "         1.19262239e-18,  5.79710145e-02,  1.19262239e-18,\n",
       "         8.33333333e-02,  1.19262239e-18,  2.62681159e-02,\n",
       "         1.19262239e-18,  9.60144928e-02,  1.19262239e-18,\n",
       "         1.99275362e-02,  1.19262239e-18,  1.44927536e-02,\n",
       "         1.19262239e-18,  9.96376812e-03,  1.19262239e-18,\n",
       "         1.39492754e-01,  1.19262239e-18,  1.24094203e-01,\n",
       "         1.19262239e-18,  1.09601449e-01,  1.19262239e-18,\n",
       "         6.34057971e-03,  1.19262239e-18,  3.62318841e-03,\n",
       "         1.19262239e-18,  9.87318841e-02,  1.19262239e-18,\n",
       "         1.81159420e-03,  1.19262239e-18,  9.05797101e-04,\n",
       "         1.19262239e-18,  1.19262239e-18,  7.15579710e-02,\n",
       "         1.19262239e-18,  7.58079513e-01],\n",
       "       [ 1.37681159e-01,  2.27743271e-02,  1.06625259e-01,\n",
       "         4.76190476e-02,  1.19047619e-01,  3.83022774e-02,\n",
       "         1.28364389e-01,  3.00207039e-02,  1.53209110e-01,\n",
       "         1.13871636e-02,  9.52380952e-02,  5.79710145e-02,\n",
       "         1.60455487e-01,  7.24637681e-03,  8.07453416e-02,\n",
       "         6.93581781e-02,  6.72877847e-02,  8.17805383e-02,\n",
       "         5.17598344e-02,  9.52380952e-02,  1.72877847e-01,\n",
       "         1.03519669e-03,  1.69772257e-01,  2.07039337e-03,\n",
       "         1.65631470e-01,  4.14078675e-03,  3.51966874e-02,\n",
       "         1.09730849e-01,  1.75983437e-02,  1.25258799e-01,\n",
       "        -1.40512602e-16,  4.11996826e-18,  9.22872889e-16,\n",
       "         1.41821946e-01,  1.17961196e-16,  7.24637681e-02,\n",
       "        -1.11889664e-16,  6.52173913e-02,  1.46997930e-01,\n",
       "         1.65631470e-02, -1.31838984e-16, -9.75781955e-19,\n",
       "        -2.63677968e-16, -9.75781955e-19, -2.77555756e-16,\n",
       "        -9.75781955e-19,  7.84095011e-16, -9.75781955e-19,\n",
       "         6.93889390e-16, -9.75781955e-19,  1.73472348e-16,\n",
       "        -9.75781955e-19, -1.13797860e-15, -9.75781955e-19,\n",
       "         1.21430643e-16, -9.75781955e-19,  3.03576608e-17,\n",
       "        -9.75781955e-19, -7.02563008e-17, -9.75781955e-19,\n",
       "        -6.10622664e-16, -9.75781955e-19,  1.11022302e-16,\n",
       "        -9.75781955e-19,  8.88178420e-16, -9.75781955e-19,\n",
       "         8.23993651e-18, -9.75781955e-19,  4.11996826e-18,\n",
       "        -9.75781955e-19,  1.00000000e+00, -9.75781955e-19,\n",
       "        -2.76471554e-18, -9.75781955e-19, -4.87890978e-19,\n",
       "        -9.75781955e-19, -9.75781955e-19,  7.70217223e-16,\n",
       "        -9.75781955e-19,  7.46465892e-01]])"
      ]
     },
     "execution_count": 136,
     "metadata": {},
     "output_type": "execute_result"
    }
   ],
   "source": [
    "kmeans5.cluster_centers_"
   ]
  },
  {
   "cell_type": "code",
   "execution_count": 137,
   "metadata": {},
   "outputs": [
    {
     "data": {
      "text/plain": [
       "<matplotlib.collections.PathCollection at 0x7f5252810e80>"
      ]
     },
     "execution_count": 137,
     "metadata": {},
     "output_type": "execute_result"
    },
    {
     "data": {
      "image/png": "[encoded data removed]",
      "text/plain": [
       "<Figure size 432x288 with 1 Axes>"
      ]
     },
     "metadata": {
      "needs_background": "light"
     },
     "output_type": "display_data"
    }
   ],
   "source": [
    "plt.scatter(x[:,0], x[:,1], c=y_kmeans5, cmap='rainbow')"
   ]
  },
  {
   "cell_type": "code",
   "execution_count": 95,
   "metadata": {},
   "outputs": [],
   "source": [
    "from sklearn.cluster import KMeans\n",
    "kmeans = KMeans(n_clusters=2)\n",
    "kmeans.fit(X)\n",
    "y_kmeans = kmeans.predict(X)"
   ]
  },
  {
   "cell_type": "code",
   "execution_count": 96,
   "metadata": {},
   "outputs": [
    {
     "data": {
      "image/png": "[encoded data removed]",
      "text/plain": [
       "<Figure size 432x288 with 1 Axes>"
      ]
     },
     "metadata": {
      "needs_background": "light"
     },
     "output_type": "display_data"
    }
   ],
   "source": [
    "plt.scatter(X[:, 0], X[:, 1], c=y_kmeans, s=50, cmap='viridis')\n",
    "\n",
    "centers = kmeans.cluster_centers_\n",
    "plt.scatter(centers[:, 0], centers[:, 1], c='black', s=200, alpha=0.5)"
   ]
  },
  {
   "cell_type": "markdown",
   "metadata": {},
   "source": [
    "###### That's all folks!!!"
   ]
  }
 ],
 "metadata": {
  "kernelspec": {
   "display_name": "Python 3",
   "language": "python",
   "name": "python3"
  },
  "language_info": {
   "codemirror_mode": {
    "name": "ipython",
    "version": 3
   },
   "file_extension": ".py",
   "mimetype": "text/x-python",
   "name": "python",
   "nbconvert_exporter": "python",
   "pygments_lexer": "ipython3",
   "version": "3.8.2"
  }
 },
 "nbformat": 4,
 "nbformat_minor": 4
}
