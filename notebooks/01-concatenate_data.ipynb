{
 "cells": [
  {
   "cell_type": "markdown",
   "metadata": {},
   "source": [
    "# Concatenate Data"
   ]
  },
  {
   "cell_type": "code",
   "execution_count": 12,
   "metadata": {},
   "outputs": [],
   "source": [
    "# import libraries\n",
    "import pandas as pd\n",
    "import matplotlib.pyplot as plt\n",
    "import seaborn as sns"
   ]
  },
  {
   "cell_type": "code",
   "execution_count": 13,
   "metadata": {},
   "outputs": [],
   "source": [
    "pd.set_option('display.max_rows', 500)\n",
    "pd.set_option('display.max_columns', 500)\n",
    "pd.set_option('display.width', 1000)"
   ]
  },
  {
   "cell_type": "code",
   "execution_count": 14,
   "metadata": {},
   "outputs": [],
   "source": [
    "# read the data\n",
    "ant = pd.read_csv(\"../experiments/ant.csv\", index_col=0)\n",
    "camel = pd.read_csv(\"../experiments/camel.csv\", index_col=0) "
   ]
  },
  {
   "cell_type": "code",
   "execution_count": 16,
   "metadata": {},
   "outputs": [
    {
     "output_type": "execute_result",
     "data": {
      "text/plain": "       wmc  dit  noc  cbo  rfc  lcom  ca  ce  npm  lcom3  loc  dam  moa       mfa       cam  ic  cbm        amc  max_cc  avg_cc  bug\nname                                                                                                                                \ncamel    4    2    0    6    8     6   2   5    4   2.00   26  0.0    0  0.896552  0.500000   0    0   5.500000       1  0.7500    0\ncamel    6    3    0   21   33    15   1  21    2   2.00  176  0.0    0  0.800000  0.500000   2    2  28.333333       1  0.6667    0\ncamel    2    3    0    3    7     1   0   3    1   2.00   24  0.0    0  0.833333  0.666667   1    1  11.000000       1  0.5000    0\ncamel   26    1    1   10   47     0   5   5   24   0.08  236  1.0    1  0.000000  0.258242   0    0   8.038462       2  1.0000    0\ncamel    4    3    0    4   19     6   1   4    3   2.00   62  0.0    0  0.888889  0.375000   1    1  14.500000       1  0.5000    0",
      "text/html": "<div>\n<style scoped>\n    .dataframe tbody tr th:only-of-type {\n        vertical-align: middle;\n    }\n\n    .dataframe tbody tr th {\n        vertical-align: top;\n    }\n\n    .dataframe thead th {\n        text-align: right;\n    }\n</style>\n<table border=\"1\" class=\"dataframe\">\n  <thead>\n    <tr style=\"text-align: right;\">\n      <th></th>\n      <th>wmc</th>\n      <th>dit</th>\n      <th>noc</th>\n      <th>cbo</th>\n      <th>rfc</th>\n      <th>lcom</th>\n      <th>ca</th>\n      <th>ce</th>\n      <th>npm</th>\n      <th>lcom3</th>\n      <th>loc</th>\n      <th>dam</th>\n      <th>moa</th>\n      <th>mfa</th>\n      <th>cam</th>\n      <th>ic</th>\n      <th>cbm</th>\n      <th>amc</th>\n      <th>max_cc</th>\n      <th>avg_cc</th>\n      <th>bug</th>\n    </tr>\n    <tr>\n      <th>name</th>\n      <th></th>\n      <th></th>\n      <th></th>\n      <th></th>\n      <th></th>\n      <th></th>\n      <th></th>\n      <th></th>\n      <th></th>\n      <th></th>\n      <th></th>\n      <th></th>\n      <th></th>\n      <th></th>\n      <th></th>\n      <th></th>\n      <th></th>\n      <th></th>\n      <th></th>\n      <th></th>\n      <th></th>\n    </tr>\n  </thead>\n  <tbody>\n    <tr>\n      <th>camel</th>\n      <td>4</td>\n      <td>2</td>\n      <td>0</td>\n      <td>6</td>\n      <td>8</td>\n      <td>6</td>\n      <td>2</td>\n      <td>5</td>\n      <td>4</td>\n      <td>2.00</td>\n      <td>26</td>\n      <td>0.0</td>\n      <td>0</td>\n      <td>0.896552</td>\n      <td>0.500000</td>\n      <td>0</td>\n      <td>0</td>\n      <td>5.500000</td>\n      <td>1</td>\n      <td>0.7500</td>\n      <td>0</td>\n    </tr>\n    <tr>\n      <th>camel</th>\n      <td>6</td>\n      <td>3</td>\n      <td>0</td>\n      <td>21</td>\n      <td>33</td>\n      <td>15</td>\n      <td>1</td>\n      <td>21</td>\n      <td>2</td>\n      <td>2.00</td>\n      <td>176</td>\n      <td>0.0</td>\n      <td>0</td>\n      <td>0.800000</td>\n      <td>0.500000</td>\n      <td>2</td>\n      <td>2</td>\n      <td>28.333333</td>\n      <td>1</td>\n      <td>0.6667</td>\n      <td>0</td>\n    </tr>\n    <tr>\n      <th>camel</th>\n      <td>2</td>\n      <td>3</td>\n      <td>0</td>\n      <td>3</td>\n      <td>7</td>\n      <td>1</td>\n      <td>0</td>\n      <td>3</td>\n      <td>1</td>\n      <td>2.00</td>\n      <td>24</td>\n      <td>0.0</td>\n      <td>0</td>\n      <td>0.833333</td>\n      <td>0.666667</td>\n      <td>1</td>\n      <td>1</td>\n      <td>11.000000</td>\n      <td>1</td>\n      <td>0.5000</td>\n      <td>0</td>\n    </tr>\n    <tr>\n      <th>camel</th>\n      <td>26</td>\n      <td>1</td>\n      <td>1</td>\n      <td>10</td>\n      <td>47</td>\n      <td>0</td>\n      <td>5</td>\n      <td>5</td>\n      <td>24</td>\n      <td>0.08</td>\n      <td>236</td>\n      <td>1.0</td>\n      <td>1</td>\n      <td>0.000000</td>\n      <td>0.258242</td>\n      <td>0</td>\n      <td>0</td>\n      <td>8.038462</td>\n      <td>2</td>\n      <td>1.0000</td>\n      <td>0</td>\n    </tr>\n    <tr>\n      <th>camel</th>\n      <td>4</td>\n      <td>3</td>\n      <td>0</td>\n      <td>4</td>\n      <td>19</td>\n      <td>6</td>\n      <td>1</td>\n      <td>4</td>\n      <td>3</td>\n      <td>2.00</td>\n      <td>62</td>\n      <td>0.0</td>\n      <td>0</td>\n      <td>0.888889</td>\n      <td>0.375000</td>\n      <td>1</td>\n      <td>1</td>\n      <td>14.500000</td>\n      <td>1</td>\n      <td>0.5000</td>\n      <td>0</td>\n    </tr>\n  </tbody>\n</table>\n</div>"
     },
     "metadata": {},
     "execution_count": 16
    }
   ],
   "source": [
    "camel.head()"
   ]
  },
  {
   "cell_type": "code",
   "execution_count": 5,
   "metadata": {},
   "outputs": [],
   "source": [
    "df = pd.concat([lucene, equinox, mylyn, pde, jdt])"
   ]
  },
  {
   "cell_type": "code",
   "execution_count": 6,
   "metadata": {},
   "outputs": [],
   "source": [
    "df.columns = df.columns.str.replace(' ', '')"
   ]
  },
  {
   "cell_type": "code",
   "execution_count": 7,
   "metadata": {},
   "outputs": [],
   "source": [
    "# test the mean_commits as a regression problem\n",
    "results = df.bugs.values\n",
    "df = df.drop('bugs', axis=1)\n",
    "df['bugs'] = results "
   ]
  },
  {
   "cell_type": "code",
   "execution_count": 8,
   "metadata": {},
   "outputs": [],
   "source": [
    "def classification_problem(s):\n",
    "    if s >= 1: \n",
    "        return 1\n",
    "    else:\n",
    "        return 0\n",
    "\n",
    "df['bugs_classification'] = df['bugs'].apply(classification_problem)"
   ]
  },
  {
   "cell_type": "code",
   "execution_count": 9,
   "metadata": {},
   "outputs": [],
   "source": [
    "df = df.drop('bugs', axis=1)\n",
    "df = df.drop('', axis=1)"
   ]
  },
  {
   "cell_type": "code",
   "execution_count": 10,
   "metadata": {},
   "outputs": [
    {
     "data": {
      "text/plain": [
       "(5371, 47)"
      ]
     },
     "execution_count": 10,
     "metadata": {},
     "output_type": "execute_result"
    }
   ],
   "source": [
    "df.shape"
   ]
  },
  {
   "cell_type": "code",
   "execution_count": 11,
   "metadata": {},
   "outputs": [],
   "source": [
    "# convert all columns of DataFrame\n",
    "df = df.dropna()\n",
    "# find the objects columns\n",
    "cols = df.columns[df.dtypes.eq('object')]\n",
    "# convert to numeric these columns\n",
    "df[cols] = df[cols].apply(pd.to_numeric, errors='coerce')"
   ]
  },
  {
   "cell_type": "code",
   "execution_count": 12,
   "metadata": {},
   "outputs": [],
   "source": [
    "df = df.drop('nonTrivialBugs', axis=1)\n",
    "df = df.drop('majorBugs', axis=1)\n",
    "df = df.drop('criticalBugs', axis=1)\n",
    "df = df.drop('highPriorityBugs', axis=1)\n",
    "df = df.drop('numberOfNonTrivialBugsFoundUntil:', axis=1)\n",
    "df = df.drop('numberOfMajorBugsFoundUntil:', axis=1)\n",
    "df = df.drop('numberOfHighPriorityBugsFoundUntil:', axis=1)\n",
    "df = df.drop('numberOfCriticalBugsFoundUntil:', axis=1)"
   ]
  },
  {
   "cell_type": "code",
   "execution_count": 13,
   "metadata": {},
   "outputs": [],
   "source": [
    "df.rename(columns={'numberOfBugsFoundUntil:':'numberOfBugsFoundUntil'},inplace=True)\n",
    "df.rename(columns={'numberOfBugsVersionUntil:':'numberOfBugsVersionUntil'},inplace=True)\n",
    "df.rename(columns={'numberOfFixesUntil:':'numberOfFixesUntil'},inplace=True)\n",
    "df.rename(columns={'numberOfRefactoringUntil:':'numberOfRefactoringUntil'},inplace=True)\n",
    "df.rename(columns={'numberOfAuthorsUntil:':'numberOfAuthorsUntil'},inplace=True)\n",
    "df.rename(columns={'linesAddedUntil:':'linesAddedUntil'},inplace=True)\n",
    "df.rename(columns={'maxLinesAddedUntil:':'maxLinesAddedUntil'},inplace=True)\n",
    "df.rename(columns={'avgLinesAddedUntil:':'avgLinesAddedUntil'},inplace=True)\n",
    "df.rename(columns={'linesRemovedUntil:':'linesRemovedUntil'},inplace=True)\n",
    "df.rename(columns={'maxLinesRemovedUntil:':'maxLinesRemovedUntil'},inplace=True)\n",
    "df.rename(columns={'avgLinesRemovedUntil:':'avgLinesRemovedUntil'},inplace=True)\n",
    "df.rename(columns={'codeChurnUntil:':'codeChurnUntil'},inplace=True)\n",
    "df.rename(columns={'maxCodeChurnUntil:':'maxCodeChurnUntil'},inplace=True)\n",
    "df.rename(columns={'avgCodeChurnUntil:':'avgCodeChurnUntil'},inplace=True)\n",
    "df.rename(columns={'ageWithRespectTo:':'ageWithRespectTo'},inplace=True)\n",
    "df.rename(columns={'weightedAgeWithRespectTo:':'weightedAgeWithRespectTo'},inplace=True)"
   ]
  },
  {
   "cell_type": "code",
   "execution_count": 14,
   "metadata": {},
   "outputs": [],
   "source": [
    "df.to_csv('../experiments/total.csv', index = False, header=True)"
   ]
  },
  {
   "cell_type": "markdown",
   "metadata": {},
   "source": [
    "#### That's all folks!!!"
   ]
  },
  {
   "cell_type": "code",
   "execution_count": null,
   "metadata": {},
   "outputs": [],
   "source": []
  }
 ],
 "metadata": {
  "kernelspec": {
   "display_name": "Python 3",
   "language": "python",
   "name": "python3"
  },
  "language_info": {
   "codemirror_mode": {
    "name": "ipython",
    "version": 3
   },
   "file_extension": ".py",
   "mimetype": "text/x-python",
   "name": "python",
   "nbconvert_exporter": "python",
   "pygments_lexer": "ipython3",
   "version": "3.8.2-final"
  }
 },
 "nbformat": 4,
 "nbformat_minor": 2
}